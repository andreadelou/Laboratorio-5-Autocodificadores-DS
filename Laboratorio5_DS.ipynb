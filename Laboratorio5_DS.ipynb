{
  "cells": [
    {
      "cell_type": "markdown",
      "metadata": {
        "id": "kmUGtrRDUArF"
      },
      "source": [
        "### Universidad del Valle de Guatemala<br>Data Science<br>Laboratorio#5\n",
        "\n",
        "#### Integrantes:\n",
        "  - Christopher García 20541\n",
        "  - Andrea Lam 20102"
      ]
    },
    {
      "cell_type": "code",
      "execution_count": 1,
      "metadata": {
        "id": "Fi8mlg7GTmkZ"
      },
      "outputs": [],
      "source": [
        "# Importa las bibliotecas necesarias\n",
        "import pandas as pd\n",
        "import numpy as np\n",
        "from sklearn.preprocessing import StandardScaler\n",
        "import matplotlib.pyplot as plt\n",
        "from keras.layers import Input, Dense\n",
        "from keras.models import Model, Sequential\n",
        "from keras.optimizers import Adam\n",
        "from pandas import get_dummies\n",
        "from sklearn.preprocessing import LabelEncoder\n",
        "import warnings\n",
        "warnings.filterwarnings(\"ignore\", category=FutureWarning)"
      ]
    },
    {
      "cell_type": "code",
      "execution_count": 2,
      "metadata": {
        "id": "TdO_d-xXUxoW"
      },
      "outputs": [],
      "source": [
        "df = pd.read_csv('UK_foods.csv')"
      ]
    },
    {
      "cell_type": "code",
      "execution_count": 3,
      "metadata": {
        "colab": {
          "base_uri": "https://localhost:8080/",
          "height": 300
        },
        "id": "b605dmO3VwTz",
        "outputId": "32f8fa25-cbfe-4d2e-c013-72a9fed09bcf"
      },
      "outputs": [
        {
          "data": {
            "text/html": [
              "<div>\n",
              "<style scoped>\n",
              "    .dataframe tbody tr th:only-of-type {\n",
              "        vertical-align: middle;\n",
              "    }\n",
              "\n",
              "    .dataframe tbody tr th {\n",
              "        vertical-align: top;\n",
              "    }\n",
              "\n",
              "    .dataframe thead th {\n",
              "        text-align: right;\n",
              "    }\n",
              "</style>\n",
              "<table border=\"1\" class=\"dataframe\">\n",
              "  <thead>\n",
              "    <tr style=\"text-align: right;\">\n",
              "      <th></th>\n",
              "      <th>England</th>\n",
              "      <th>Wales</th>\n",
              "      <th>Scotland</th>\n",
              "      <th>N.Ireland</th>\n",
              "    </tr>\n",
              "  </thead>\n",
              "  <tbody>\n",
              "    <tr>\n",
              "      <th>count</th>\n",
              "      <td>17.000000</td>\n",
              "      <td>17.000000</td>\n",
              "      <td>17.000000</td>\n",
              "      <td>17.000000</td>\n",
              "    </tr>\n",
              "    <tr>\n",
              "      <th>mean</th>\n",
              "      <td>469.647059</td>\n",
              "      <td>503.941176</td>\n",
              "      <td>460.235294</td>\n",
              "      <td>429.941176</td>\n",
              "    </tr>\n",
              "    <tr>\n",
              "      <th>std</th>\n",
              "      <td>452.701466</td>\n",
              "      <td>463.859282</td>\n",
              "      <td>469.595907</td>\n",
              "      <td>479.896014</td>\n",
              "    </tr>\n",
              "    <tr>\n",
              "      <th>min</th>\n",
              "      <td>54.000000</td>\n",
              "      <td>64.000000</td>\n",
              "      <td>53.000000</td>\n",
              "      <td>41.000000</td>\n",
              "    </tr>\n",
              "    <tr>\n",
              "      <th>25%</th>\n",
              "      <td>156.000000</td>\n",
              "      <td>175.000000</td>\n",
              "      <td>147.000000</td>\n",
              "      <td>135.000000</td>\n",
              "    </tr>\n",
              "    <tr>\n",
              "      <th>50%</th>\n",
              "      <td>253.000000</td>\n",
              "      <td>265.000000</td>\n",
              "      <td>242.000000</td>\n",
              "      <td>209.000000</td>\n",
              "    </tr>\n",
              "    <tr>\n",
              "      <th>75%</th>\n",
              "      <td>685.000000</td>\n",
              "      <td>803.000000</td>\n",
              "      <td>566.000000</td>\n",
              "      <td>586.000000</td>\n",
              "    </tr>\n",
              "    <tr>\n",
              "      <th>max</th>\n",
              "      <td>1472.000000</td>\n",
              "      <td>1582.000000</td>\n",
              "      <td>1572.000000</td>\n",
              "      <td>1506.000000</td>\n",
              "    </tr>\n",
              "  </tbody>\n",
              "</table>\n",
              "</div>"
            ],
            "text/plain": [
              "           England        Wales     Scotland    N.Ireland\n",
              "count    17.000000    17.000000    17.000000    17.000000\n",
              "mean    469.647059   503.941176   460.235294   429.941176\n",
              "std     452.701466   463.859282   469.595907   479.896014\n",
              "min      54.000000    64.000000    53.000000    41.000000\n",
              "25%     156.000000   175.000000   147.000000   135.000000\n",
              "50%     253.000000   265.000000   242.000000   209.000000\n",
              "75%     685.000000   803.000000   566.000000   586.000000\n",
              "max    1472.000000  1582.000000  1572.000000  1506.000000"
            ]
          },
          "execution_count": 3,
          "metadata": {},
          "output_type": "execute_result"
        }
      ],
      "source": [
        "df.describe()"
      ]
    },
    {
      "cell_type": "code",
      "execution_count": 4,
      "metadata": {
        "colab": {
          "base_uri": "https://localhost:8080/",
          "height": 206
        },
        "id": "KDDaQWkHVzIg",
        "outputId": "d6856058-bd6d-4ac3-eeaf-d6c3f0c0a0bb"
      },
      "outputs": [
        {
          "data": {
            "text/html": [
              "<div>\n",
              "<style scoped>\n",
              "    .dataframe tbody tr th:only-of-type {\n",
              "        vertical-align: middle;\n",
              "    }\n",
              "\n",
              "    .dataframe tbody tr th {\n",
              "        vertical-align: top;\n",
              "    }\n",
              "\n",
              "    .dataframe thead th {\n",
              "        text-align: right;\n",
              "    }\n",
              "</style>\n",
              "<table border=\"1\" class=\"dataframe\">\n",
              "  <thead>\n",
              "    <tr style=\"text-align: right;\">\n",
              "      <th></th>\n",
              "      <th>Unnamed: 0</th>\n",
              "      <th>England</th>\n",
              "      <th>Wales</th>\n",
              "      <th>Scotland</th>\n",
              "      <th>N.Ireland</th>\n",
              "    </tr>\n",
              "  </thead>\n",
              "  <tbody>\n",
              "    <tr>\n",
              "      <th>0</th>\n",
              "      <td>Cheese</td>\n",
              "      <td>105</td>\n",
              "      <td>103</td>\n",
              "      <td>103</td>\n",
              "      <td>66</td>\n",
              "    </tr>\n",
              "    <tr>\n",
              "      <th>1</th>\n",
              "      <td>Carcass_meat</td>\n",
              "      <td>245</td>\n",
              "      <td>227</td>\n",
              "      <td>242</td>\n",
              "      <td>267</td>\n",
              "    </tr>\n",
              "    <tr>\n",
              "      <th>2</th>\n",
              "      <td>Other_meat</td>\n",
              "      <td>685</td>\n",
              "      <td>803</td>\n",
              "      <td>750</td>\n",
              "      <td>586</td>\n",
              "    </tr>\n",
              "    <tr>\n",
              "      <th>3</th>\n",
              "      <td>Fish</td>\n",
              "      <td>147</td>\n",
              "      <td>160</td>\n",
              "      <td>122</td>\n",
              "      <td>93</td>\n",
              "    </tr>\n",
              "    <tr>\n",
              "      <th>4</th>\n",
              "      <td>Fats_and_oils</td>\n",
              "      <td>193</td>\n",
              "      <td>235</td>\n",
              "      <td>184</td>\n",
              "      <td>209</td>\n",
              "    </tr>\n",
              "  </tbody>\n",
              "</table>\n",
              "</div>"
            ],
            "text/plain": [
              "       Unnamed: 0  England  Wales  Scotland  N.Ireland\n",
              "0          Cheese      105    103       103         66\n",
              "1   Carcass_meat       245    227       242        267\n",
              "2     Other_meat       685    803       750        586\n",
              "3            Fish      147    160       122         93\n",
              "4  Fats_and_oils       193    235       184        209"
            ]
          },
          "execution_count": 4,
          "metadata": {},
          "output_type": "execute_result"
        }
      ],
      "source": [
        "df.head()"
      ]
    },
    {
      "cell_type": "code",
      "execution_count": 5,
      "metadata": {
        "colab": {
          "base_uri": "https://localhost:8080/",
          "height": 206
        },
        "id": "tQGj9ZMcV2pq",
        "outputId": "251e9e52-03e3-4694-b431-3241b0939bb1"
      },
      "outputs": [
        {
          "data": {
            "text/html": [
              "<div>\n",
              "<style scoped>\n",
              "    .dataframe tbody tr th:only-of-type {\n",
              "        vertical-align: middle;\n",
              "    }\n",
              "\n",
              "    .dataframe tbody tr th {\n",
              "        vertical-align: top;\n",
              "    }\n",
              "\n",
              "    .dataframe thead th {\n",
              "        text-align: right;\n",
              "    }\n",
              "</style>\n",
              "<table border=\"1\" class=\"dataframe\">\n",
              "  <thead>\n",
              "    <tr style=\"text-align: right;\">\n",
              "      <th></th>\n",
              "      <th>Unnamed: 0</th>\n",
              "      <th>England</th>\n",
              "      <th>Wales</th>\n",
              "      <th>Scotland</th>\n",
              "      <th>N.Ireland</th>\n",
              "    </tr>\n",
              "  </thead>\n",
              "  <tbody>\n",
              "    <tr>\n",
              "      <th>12</th>\n",
              "      <td>Cereals</td>\n",
              "      <td>1472</td>\n",
              "      <td>1582</td>\n",
              "      <td>1462</td>\n",
              "      <td>1494</td>\n",
              "    </tr>\n",
              "    <tr>\n",
              "      <th>13</th>\n",
              "      <td>Beverages</td>\n",
              "      <td>57</td>\n",
              "      <td>73</td>\n",
              "      <td>53</td>\n",
              "      <td>47</td>\n",
              "    </tr>\n",
              "    <tr>\n",
              "      <th>14</th>\n",
              "      <td>Soft_drinks</td>\n",
              "      <td>1374</td>\n",
              "      <td>1256</td>\n",
              "      <td>1572</td>\n",
              "      <td>1506</td>\n",
              "    </tr>\n",
              "    <tr>\n",
              "      <th>15</th>\n",
              "      <td>Alcoholic_drinks</td>\n",
              "      <td>375</td>\n",
              "      <td>475</td>\n",
              "      <td>458</td>\n",
              "      <td>135</td>\n",
              "    </tr>\n",
              "    <tr>\n",
              "      <th>16</th>\n",
              "      <td>Confectionery</td>\n",
              "      <td>54</td>\n",
              "      <td>64</td>\n",
              "      <td>62</td>\n",
              "      <td>41</td>\n",
              "    </tr>\n",
              "  </tbody>\n",
              "</table>\n",
              "</div>"
            ],
            "text/plain": [
              "           Unnamed: 0  England  Wales  Scotland  N.Ireland\n",
              "12           Cereals      1472   1582      1462       1494\n",
              "13          Beverages       57     73        53         47\n",
              "14       Soft_drinks      1374   1256      1572       1506\n",
              "15  Alcoholic_drinks       375    475       458        135\n",
              "16     Confectionery        54     64        62         41"
            ]
          },
          "execution_count": 5,
          "metadata": {},
          "output_type": "execute_result"
        }
      ],
      "source": [
        "df.tail()"
      ]
    },
    {
      "cell_type": "code",
      "execution_count": 6,
      "metadata": {
        "colab": {
          "base_uri": "https://localhost:8080/"
        },
        "id": "pFWQjVXRaC7m",
        "outputId": "82349df8-563b-4d89-a037-7e0b2ce40360"
      },
      "outputs": [
        {
          "name": "stdout",
          "output_type": "stream",
          "text": [
            "Estadísticas Descriptivas Básicas:\n",
            "           England        Wales     Scotland    N.Ireland\n",
            "count    17.000000    17.000000    17.000000    17.000000\n",
            "mean    469.647059   503.941176   460.235294   429.941176\n",
            "std     452.701466   463.859282   469.595907   479.896014\n",
            "min      54.000000    64.000000    53.000000    41.000000\n",
            "25%     156.000000   175.000000   147.000000   135.000000\n",
            "50%     253.000000   265.000000   242.000000   209.000000\n",
            "75%     685.000000   803.000000   566.000000   586.000000\n",
            "max    1472.000000  1582.000000  1572.000000  1506.000000\n",
            "\n",
            "Matriz de Correlación:\n",
            "            England     Wales  Scotland  N.Ireland\n",
            "England    1.000000  0.990654  0.984917   0.947619\n",
            "Wales      0.990654  1.000000  0.964122   0.937061\n",
            "Scotland   0.984917  0.964122  1.000000   0.940742\n",
            "N.Ireland  0.947619  0.937061  0.940742   1.000000\n",
            "\n",
            "Mediana:\n",
            "England      253.0\n",
            "Wales        265.0\n",
            "Scotland     242.0\n",
            "N.Ireland    209.0\n",
            "dtype: float64\n",
            "\n",
            "Percentil 25:\n",
            "England      156.0\n",
            "Wales        175.0\n",
            "Scotland     147.0\n",
            "N.Ireland    135.0\n",
            "Name: 0.25, dtype: float64\n",
            "\n",
            "Percentil 75:\n",
            "England      685.0\n",
            "Wales        803.0\n",
            "Scotland     566.0\n",
            "N.Ireland    586.0\n",
            "Name: 0.75, dtype: float64\n"
          ]
        }
      ],
      "source": [
        "\n",
        "# Eliminar columnas no numéricas\n",
        "df_numeric = df.select_dtypes(include=['number'])  # Esto selecciona solo las columnas numéricas\n",
        "\n",
        "\n",
        "# Calcula estadísticas descriptivas básicas para las columnas numéricas\n",
        "numeric_stats = df.describe()\n",
        "\n",
        "# Calcula la correlación entre las columnas numéricas\n",
        "correlation_matrix = df_numeric.corr()\n",
        "\n",
        "# Imprime las estadísticas descriptivas básicas\n",
        "print(\"Estadísticas Descriptivas Básicas:\")\n",
        "print(numeric_stats)\n",
        "\n",
        "# Imprime la matriz de correlación\n",
        "print(\"\\nMatriz de Correlación:\")\n",
        "print(correlation_matrix)\n",
        "print()\n",
        "\n",
        "# Calcula la mediana para las columnas numéricas\n",
        "median = df_numeric.median()\n",
        "\n",
        "# Calcula los percentiles 25 y 75 para las columnas numéricas\n",
        "percentile_25 = df_numeric.quantile(0.25)\n",
        "percentile_75 = df_numeric.quantile(0.75)\n",
        "\n",
        "# Imprime la mediana\n",
        "print(\"Mediana:\")\n",
        "print(median)\n",
        "\n",
        "# Imprime los percentiles 25 y 75\n",
        "print(\"\\nPercentil 25:\")\n",
        "print(percentile_25)\n",
        "print(\"\\nPercentil 75:\")\n",
        "print(percentile_75)\n"
      ]
    },
    {
      "cell_type": "code",
      "execution_count": 7,
      "metadata": {
        "id": "rLtXT5jZX3pZ"
      },
      "outputs": [],
      "source": [
        "df = df.rename(columns={'Unnamed: 0': 'Product'})"
      ]
    },
    {
      "cell_type": "code",
      "execution_count": 8,
      "metadata": {
        "colab": {
          "base_uri": "https://localhost:8080/",
          "height": 206
        },
        "id": "l_I5WMmTYJQa",
        "outputId": "1a631d7f-a343-4891-8f97-1f4f6be02c44"
      },
      "outputs": [
        {
          "data": {
            "text/html": [
              "<div>\n",
              "<style scoped>\n",
              "    .dataframe tbody tr th:only-of-type {\n",
              "        vertical-align: middle;\n",
              "    }\n",
              "\n",
              "    .dataframe tbody tr th {\n",
              "        vertical-align: top;\n",
              "    }\n",
              "\n",
              "    .dataframe thead th {\n",
              "        text-align: right;\n",
              "    }\n",
              "</style>\n",
              "<table border=\"1\" class=\"dataframe\">\n",
              "  <thead>\n",
              "    <tr style=\"text-align: right;\">\n",
              "      <th></th>\n",
              "      <th>England</th>\n",
              "      <th>Wales</th>\n",
              "      <th>Scotland</th>\n",
              "      <th>N.Ireland</th>\n",
              "    </tr>\n",
              "  </thead>\n",
              "  <tbody>\n",
              "    <tr>\n",
              "      <th>0</th>\n",
              "      <td>105</td>\n",
              "      <td>103</td>\n",
              "      <td>103</td>\n",
              "      <td>66</td>\n",
              "    </tr>\n",
              "    <tr>\n",
              "      <th>1</th>\n",
              "      <td>245</td>\n",
              "      <td>227</td>\n",
              "      <td>242</td>\n",
              "      <td>267</td>\n",
              "    </tr>\n",
              "    <tr>\n",
              "      <th>2</th>\n",
              "      <td>685</td>\n",
              "      <td>803</td>\n",
              "      <td>750</td>\n",
              "      <td>586</td>\n",
              "    </tr>\n",
              "    <tr>\n",
              "      <th>3</th>\n",
              "      <td>147</td>\n",
              "      <td>160</td>\n",
              "      <td>122</td>\n",
              "      <td>93</td>\n",
              "    </tr>\n",
              "    <tr>\n",
              "      <th>4</th>\n",
              "      <td>193</td>\n",
              "      <td>235</td>\n",
              "      <td>184</td>\n",
              "      <td>209</td>\n",
              "    </tr>\n",
              "  </tbody>\n",
              "</table>\n",
              "</div>"
            ],
            "text/plain": [
              "   England  Wales  Scotland  N.Ireland\n",
              "0      105    103       103         66\n",
              "1      245    227       242        267\n",
              "2      685    803       750        586\n",
              "3      147    160       122         93\n",
              "4      193    235       184        209"
            ]
          },
          "execution_count": 8,
          "metadata": {},
          "output_type": "execute_result"
        }
      ],
      "source": [
        "label_encoder = LabelEncoder()\n",
        "df['Product_Encoded'] = label_encoder.fit_transform(df['Product'])\n",
        "df = df.drop('Product', axis=1)\n",
        "df = df.drop('Product_Encoded', axis=1)\n",
        "df.head()"
      ]
    },
    {
      "cell_type": "code",
      "execution_count": 9,
      "metadata": {
        "colab": {
          "base_uri": "https://localhost:8080/",
          "height": 175
        },
        "id": "xYX9g8eam1A3",
        "outputId": "48dbb6ec-0264-4093-d6d3-869df3c4ba42"
      },
      "outputs": [
        {
          "data": {
            "text/html": [
              "<div>\n",
              "<style scoped>\n",
              "    .dataframe tbody tr th:only-of-type {\n",
              "        vertical-align: middle;\n",
              "    }\n",
              "\n",
              "    .dataframe tbody tr th {\n",
              "        vertical-align: top;\n",
              "    }\n",
              "\n",
              "    .dataframe thead th {\n",
              "        text-align: right;\n",
              "    }\n",
              "</style>\n",
              "<table border=\"1\" class=\"dataframe\">\n",
              "  <thead>\n",
              "    <tr style=\"text-align: right;\">\n",
              "      <th></th>\n",
              "      <th>0</th>\n",
              "      <th>1</th>\n",
              "      <th>2</th>\n",
              "      <th>3</th>\n",
              "      <th>4</th>\n",
              "      <th>5</th>\n",
              "      <th>6</th>\n",
              "      <th>7</th>\n",
              "      <th>8</th>\n",
              "      <th>9</th>\n",
              "      <th>10</th>\n",
              "      <th>11</th>\n",
              "      <th>12</th>\n",
              "      <th>13</th>\n",
              "      <th>14</th>\n",
              "      <th>15</th>\n",
              "      <th>16</th>\n",
              "    </tr>\n",
              "  </thead>\n",
              "  <tbody>\n",
              "    <tr>\n",
              "      <th>England</th>\n",
              "      <td>105</td>\n",
              "      <td>245</td>\n",
              "      <td>685</td>\n",
              "      <td>147</td>\n",
              "      <td>193</td>\n",
              "      <td>156</td>\n",
              "      <td>720</td>\n",
              "      <td>253</td>\n",
              "      <td>488</td>\n",
              "      <td>198</td>\n",
              "      <td>360</td>\n",
              "      <td>1102</td>\n",
              "      <td>1472</td>\n",
              "      <td>57</td>\n",
              "      <td>1374</td>\n",
              "      <td>375</td>\n",
              "      <td>54</td>\n",
              "    </tr>\n",
              "    <tr>\n",
              "      <th>Wales</th>\n",
              "      <td>103</td>\n",
              "      <td>227</td>\n",
              "      <td>803</td>\n",
              "      <td>160</td>\n",
              "      <td>235</td>\n",
              "      <td>175</td>\n",
              "      <td>874</td>\n",
              "      <td>265</td>\n",
              "      <td>570</td>\n",
              "      <td>203</td>\n",
              "      <td>365</td>\n",
              "      <td>1137</td>\n",
              "      <td>1582</td>\n",
              "      <td>73</td>\n",
              "      <td>1256</td>\n",
              "      <td>475</td>\n",
              "      <td>64</td>\n",
              "    </tr>\n",
              "    <tr>\n",
              "      <th>Scotland</th>\n",
              "      <td>103</td>\n",
              "      <td>242</td>\n",
              "      <td>750</td>\n",
              "      <td>122</td>\n",
              "      <td>184</td>\n",
              "      <td>147</td>\n",
              "      <td>566</td>\n",
              "      <td>171</td>\n",
              "      <td>418</td>\n",
              "      <td>220</td>\n",
              "      <td>337</td>\n",
              "      <td>957</td>\n",
              "      <td>1462</td>\n",
              "      <td>53</td>\n",
              "      <td>1572</td>\n",
              "      <td>458</td>\n",
              "      <td>62</td>\n",
              "    </tr>\n",
              "    <tr>\n",
              "      <th>N.Ireland</th>\n",
              "      <td>66</td>\n",
              "      <td>267</td>\n",
              "      <td>586</td>\n",
              "      <td>93</td>\n",
              "      <td>209</td>\n",
              "      <td>139</td>\n",
              "      <td>1033</td>\n",
              "      <td>143</td>\n",
              "      <td>355</td>\n",
              "      <td>187</td>\n",
              "      <td>334</td>\n",
              "      <td>674</td>\n",
              "      <td>1494</td>\n",
              "      <td>47</td>\n",
              "      <td>1506</td>\n",
              "      <td>135</td>\n",
              "      <td>41</td>\n",
              "    </tr>\n",
              "  </tbody>\n",
              "</table>\n",
              "</div>"
            ],
            "text/plain": [
              "            0    1    2    3    4    5     6    7    8    9    10    11    12  \\\n",
              "England    105  245  685  147  193  156   720  253  488  198  360  1102  1472   \n",
              "Wales      103  227  803  160  235  175   874  265  570  203  365  1137  1582   \n",
              "Scotland   103  242  750  122  184  147   566  171  418  220  337   957  1462   \n",
              "N.Ireland   66  267  586   93  209  139  1033  143  355  187  334   674  1494   \n",
              "\n",
              "           13    14   15  16  \n",
              "England    57  1374  375  54  \n",
              "Wales      73  1256  475  64  \n",
              "Scotland   53  1572  458  62  \n",
              "N.Ireland  47  1506  135  41  "
            ]
          },
          "execution_count": 9,
          "metadata": {},
          "output_type": "execute_result"
        }
      ],
      "source": [
        "df.transpose()"
      ]
    },
    {
      "cell_type": "markdown",
      "metadata": {
        "id": "i23lBLavsn6F"
      },
      "source": [
        "#### Con ejemplo de clase\n"
      ]
    },
    {
      "cell_type": "code",
      "execution_count": 10,
      "metadata": {
        "id": "hevUPozwnc6N"
      },
      "outputs": [],
      "source": [
        "codificador = Sequential()\n",
        "codificador.add(Dense(units = 2,\n",
        "                      activation = 'relu',\n",
        "                      input_shape = [4]))\n",
        "\n",
        "decodificador = Sequential()\n",
        "decodificador.add(Dense(units = 4,\n",
        "                        activation = 'relu',\n",
        "                        input_shape = [2]))\n"
      ]
    },
    {
      "cell_type": "code",
      "execution_count": 11,
      "metadata": {
        "colab": {
          "base_uri": "https://localhost:8080/"
        },
        "id": "VW_ycGbdn4Lm",
        "outputId": "cf0fd94a-2ffa-4c04-9751-3f3ea6b64649"
      },
      "outputs": [
        {
          "name": "stderr",
          "output_type": "stream",
          "text": [
            "WARNING:absl:`lr` is deprecated in Keras optimizer, please use `learning_rate` or use the legacy optimizer, e.g.,tf.keras.optimizers.legacy.SGD.\n"
          ]
        }
      ],
      "source": [
        "from tensorflow.keras.optimizers import SGD\n",
        "\n",
        "autocodificador = Sequential([codificador,\n",
        "                              decodificador])\n",
        "autocodificador.compile(loss = \"mse\",\n",
        "                        optimizer = SGD(lr = 1.5))"
      ]
    },
    {
      "cell_type": "code",
      "execution_count": 12,
      "metadata": {
        "colab": {
          "base_uri": "https://localhost:8080/"
        },
        "id": "1KBfy8RipADA",
        "outputId": "038211f6-96b3-4d35-d8fa-53e67204cf7d"
      },
      "outputs": [
        {
          "data": {
            "text/plain": [
              "array([[0.03596615, 0.0256917 , 0.03291639, 0.01706485],\n",
              "       [0.13469676, 0.10737813, 0.12442396, 0.15426621],\n",
              "       [0.44499295, 0.48682477, 0.45885451, 0.37201365],\n",
              "       [0.06558533, 0.06324111, 0.04542462, 0.03549488],\n",
              "       [0.09802539, 0.11264822, 0.08624095, 0.11467577],\n",
              "       [0.0719323 , 0.07312253, 0.06188282, 0.0668942 ],\n",
              "       [0.4696756 , 0.53359684, 0.33772219, 0.67713311],\n",
              "       [0.1403385 , 0.13241107, 0.07768269, 0.06962457],\n",
              "       [0.30606488, 0.33333333, 0.24028966, 0.21433447],\n",
              "       [0.10155148, 0.09156785, 0.10994075, 0.0996587 ],\n",
              "       [0.2157969 , 0.19828722, 0.18696511, 0.2       ],\n",
              "       [0.73906911, 0.70685112, 0.59512837, 0.43208191],\n",
              "       [1.        , 1.        , 0.92758394, 0.99180887],\n",
              "       [0.00211566, 0.00592885, 0.        , 0.00409556],\n",
              "       [0.93088858, 0.78524374, 1.        , 1.        ],\n",
              "       [0.22637518, 0.27075099, 0.26662278, 0.06416382],\n",
              "       [0.        , 0.        , 0.00592495, 0.        ]])"
            ]
          },
          "execution_count": 12,
          "metadata": {},
          "output_type": "execute_result"
        }
      ],
      "source": [
        "from sklearn.preprocessing import MinMaxScaler\n",
        "normalizador = MinMaxScaler()\n",
        "datos_normalizados = normalizador.fit_transform(df)\n",
        "datos_normalizados"
      ]
    },
    {
      "cell_type": "code",
      "execution_count": 13,
      "metadata": {
        "colab": {
          "base_uri": "https://localhost:8080/"
        },
        "id": "NBYYJ87vpXlu",
        "outputId": "4e4b81e3-a816-4d2c-8fc1-5103a491ded6"
      },
      "outputs": [
        {
          "name": "stdout",
          "output_type": "stream",
          "text": [
            "Epoch 1/5\n",
            "1/1 [==============================] - 0s 352ms/step - loss: 0.1718\n",
            "Epoch 2/5\n",
            "1/1 [==============================] - 0s 5ms/step - loss: 0.1718\n",
            "Epoch 3/5\n",
            "1/1 [==============================] - 0s 4ms/step - loss: 0.1715\n",
            "Epoch 4/5\n",
            "1/1 [==============================] - 0s 3ms/step - loss: 0.1713\n",
            "Epoch 5/5\n",
            "1/1 [==============================] - 0s 5ms/step - loss: 0.1711\n",
            "1/1 [==============================] - 0s 63ms/step\n"
          ]
        },
        {
          "data": {
            "text/plain": [
              "(17, 2)"
            ]
          },
          "execution_count": 13,
          "metadata": {},
          "output_type": "execute_result"
        }
      ],
      "source": [
        "autocodificador.fit(datos_normalizados,\n",
        "                    datos_normalizados,\n",
        "                    epochs = 5)\n",
        "codificado_2dim = codificador.predict(datos_normalizados)\n",
        "codificado_2dim.shape"
      ]
    },
    {
      "cell_type": "code",
      "execution_count": 14,
      "metadata": {
        "colab": {
          "base_uri": "https://localhost:8080/"
        },
        "id": "Ggz-gXulphT7",
        "outputId": "2558151d-7910-48d8-8ab9-1b7a91ddd6c2"
      },
      "outputs": [
        {
          "data": {
            "text/plain": [
              "array([[0.        , 0.        ],\n",
              "       [0.        , 0.        ],\n",
              "       [0.        , 0.        ],\n",
              "       [0.        , 0.        ],\n",
              "       [0.        , 0.        ],\n",
              "       [0.        , 0.        ],\n",
              "       [0.        , 0.        ],\n",
              "       [0.        , 0.        ],\n",
              "       [0.        , 0.        ],\n",
              "       [0.        , 0.        ],\n",
              "       [0.        , 0.        ],\n",
              "       [0.        , 0.        ],\n",
              "       [0.        , 0.        ],\n",
              "       [0.00434776, 0.        ],\n",
              "       [0.        , 0.        ],\n",
              "       [0.        , 0.        ],\n",
              "       [0.        , 0.00275298]], dtype=float32)"
            ]
          },
          "execution_count": 14,
          "metadata": {},
          "output_type": "execute_result"
        }
      ],
      "source": [
        "codificado_2dim"
      ]
    },
    {
      "cell_type": "code",
      "execution_count": 15,
      "metadata": {
        "colab": {
          "base_uri": "https://localhost:8080/",
          "height": 210
        },
        "id": "TEV6jjTYppuU",
        "outputId": "6aca5a9b-7f91-43f1-c860-fcc2d7cd4416"
      },
      "outputs": [
        {
          "data": {
            "text/plain": [
              "<matplotlib.collections.PathCollection at 0x23bf5dcdd60>"
            ]
          },
          "execution_count": 15,
          "metadata": {},
          "output_type": "execute_result"
        },
        {
          "data": {
            "image/png": "[encoded data removed]",
            "text/plain": [
              "<Figure size 640x480 with 1 Axes>"
            ]
          },
          "metadata": {},
          "output_type": "display_data"
        }
      ],
      "source": [
        "y = df['England']\n",
        "\n",
        "plt.scatter(codificado_2dim[:, 0],\n",
        "            codificado_2dim[:, 1],\n",
        "            c = y)"
      ]
    },
    {
      "cell_type": "code",
      "execution_count": 16,
      "metadata": {
        "colab": {
          "base_uri": "https://localhost:8080/",
          "height": 245
        },
        "id": "Lbplkg8npqko",
        "outputId": "78883dcb-9fc6-4d9b-b41f-ce25514d8402"
      },
      "outputs": [
        {
          "data": {
            "application/vnd.plotly.v1+json": {
              "config": {
                "plotlyServerURL": "https://plot.ly"
              },
              "data": [
                {
                  "hovertemplate": "x=%{x}<br>y=%{y}<br>color=%{marker.color}<extra></extra>",
                  "legendgroup": "",
                  "marker": {
                    "color": [
                      105,
                      245,
                      685,
                      147,
                      193,
                      156,
                      720,
                      253,
                      488,
                      198,
                      360,
                      1102,
                      1472,
                      57,
                      1374,
                      375,
                      54
                    ],
                    "coloraxis": "coloraxis",
                    "symbol": "circle"
                  },
                  "mode": "markers",
                  "name": "",
                  "orientation": "v",
                  "showlegend": false,
                  "type": "scatter",
                  "x": [
                    0,
                    0,
                    0,
                    0,
                    0,
                    0,
                    0,
                    0,
                    0,
                    0,
                    0,
                    0,
                    0,
                    0.0043477644212543964,
                    0,
                    0,
                    0
                  ],
                  "xaxis": "x",
                  "y": [
                    0,
                    0,
                    0,
                    0,
                    0,
                    0,
                    0,
                    0,
                    0,
                    0,
                    0,
                    0,
                    0,
                    0,
                    0,
                    0,
                    0.002752982545644045
                  ],
                  "yaxis": "y"
                }
              ],
              "layout": {
                "coloraxis": {
                  "colorbar": {
                    "title": {
                      "text": "color"
                    }
                  },
                  "colorscale": [
                    [
                      0,
                      "#0d0887"
                    ],
                    [
                      0.1111111111111111,
                      "#46039f"
                    ],
                    [
                      0.2222222222222222,
                      "#7201a8"
                    ],
                    [
                      0.3333333333333333,
                      "#9c179e"
                    ],
                    [
                      0.4444444444444444,
                      "#bd3786"
                    ],
                    [
                      0.5555555555555556,
                      "#d8576b"
                    ],
                    [
                      0.6666666666666666,
                      "#ed7953"
                    ],
                    [
                      0.7777777777777778,
                      "#fb9f3a"
                    ],
                    [
                      0.8888888888888888,
                      "#fdca26"
                    ],
                    [
                      1,
                      "#f0f921"
                    ]
                  ]
                },
                "height": 500,
                "legend": {
                  "tracegroupgap": 0
                },
                "margin": {
                  "t": 60
                },
                "template": {
                  "data": {
                    "bar": [
                      {
                        "error_x": {
                          "color": "#2a3f5f"
                        },
                        "error_y": {
                          "color": "#2a3f5f"
                        },
                        "marker": {
                          "line": {
                            "color": "#E5ECF6",
                            "width": 0.5
                          },
                          "pattern": {
                            "fillmode": "overlay",
                            "size": 10,
                            "solidity": 0.2
                          }
                        },
                        "type": "bar"
                      }
                    ],
                    "barpolar": [
                      {
                        "marker": {
                          "line": {
                            "color": "#E5ECF6",
                            "width": 0.5
                          },
                          "pattern": {
                            "fillmode": "overlay",
                            "size": 10,
                            "solidity": 0.2
                          }
                        },
                        "type": "barpolar"
                      }
                    ],
                    "carpet": [
                      {
                        "aaxis": {
                          "endlinecolor": "#2a3f5f",
                          "gridcolor": "white",
                          "linecolor": "white",
                          "minorgridcolor": "white",
                          "startlinecolor": "#2a3f5f"
                        },
                        "baxis": {
                          "endlinecolor": "#2a3f5f",
                          "gridcolor": "white",
                          "linecolor": "white",
                          "minorgridcolor": "white",
                          "startlinecolor": "#2a3f5f"
                        },
                        "type": "carpet"
                      }
                    ],
                    "choropleth": [
                      {
                        "colorbar": {
                          "outlinewidth": 0,
                          "ticks": ""
                        },
                        "type": "choropleth"
                      }
                    ],
                    "contour": [
                      {
                        "colorbar": {
                          "outlinewidth": 0,
                          "ticks": ""
                        },
                        "colorscale": [
                          [
                            0,
                            "#0d0887"
                          ],
                          [
                            0.1111111111111111,
                            "#46039f"
                          ],
                          [
                            0.2222222222222222,
                            "#7201a8"
                          ],
                          [
                            0.3333333333333333,
                            "#9c179e"
                          ],
                          [
                            0.4444444444444444,
                            "#bd3786"
                          ],
                          [
                            0.5555555555555556,
                            "#d8576b"
                          ],
                          [
                            0.6666666666666666,
                            "#ed7953"
                          ],
                          [
                            0.7777777777777778,
                            "#fb9f3a"
                          ],
                          [
                            0.8888888888888888,
                            "#fdca26"
                          ],
                          [
                            1,
                            "#f0f921"
                          ]
                        ],
                        "type": "contour"
                      }
                    ],
                    "contourcarpet": [
                      {
                        "colorbar": {
                          "outlinewidth": 0,
                          "ticks": ""
                        },
                        "type": "contourcarpet"
                      }
                    ],
                    "heatmap": [
                      {
                        "colorbar": {
                          "outlinewidth": 0,
                          "ticks": ""
                        },
                        "colorscale": [
                          [
                            0,
                            "#0d0887"
                          ],
                          [
                            0.1111111111111111,
                            "#46039f"
                          ],
                          [
                            0.2222222222222222,
                            "#7201a8"
                          ],
                          [
                            0.3333333333333333,
                            "#9c179e"
                          ],
                          [
                            0.4444444444444444,
                            "#bd3786"
                          ],
                          [
                            0.5555555555555556,
                            "#d8576b"
                          ],
                          [
                            0.6666666666666666,
                            "#ed7953"
                          ],
                          [
                            0.7777777777777778,
                            "#fb9f3a"
                          ],
                          [
                            0.8888888888888888,
                            "#fdca26"
                          ],
                          [
                            1,
                            "#f0f921"
                          ]
                        ],
                        "type": "heatmap"
                      }
                    ],
                    "heatmapgl": [
                      {
                        "colorbar": {
                          "outlinewidth": 0,
                          "ticks": ""
                        },
                        "colorscale": [
                          [
                            0,
                            "#0d0887"
                          ],
                          [
                            0.1111111111111111,
                            "#46039f"
                          ],
                          [
                            0.2222222222222222,
                            "#7201a8"
                          ],
                          [
                            0.3333333333333333,
                            "#9c179e"
                          ],
                          [
                            0.4444444444444444,
                            "#bd3786"
                          ],
                          [
                            0.5555555555555556,
                            "#d8576b"
                          ],
                          [
                            0.6666666666666666,
                            "#ed7953"
                          ],
                          [
                            0.7777777777777778,
                            "#fb9f3a"
                          ],
                          [
                            0.8888888888888888,
                            "#fdca26"
                          ],
                          [
                            1,
                            "#f0f921"
                          ]
                        ],
                        "type": "heatmapgl"
                      }
                    ],
                    "histogram": [
                      {
                        "marker": {
                          "pattern": {
                            "fillmode": "overlay",
                            "size": 10,
                            "solidity": 0.2
                          }
                        },
                        "type": "histogram"
                      }
                    ],
                    "histogram2d": [
                      {
                        "colorbar": {
                          "outlinewidth": 0,
                          "ticks": ""
                        },
                        "colorscale": [
                          [
                            0,
                            "#0d0887"
                          ],
                          [
                            0.1111111111111111,
                            "#46039f"
                          ],
                          [
                            0.2222222222222222,
                            "#7201a8"
                          ],
                          [
                            0.3333333333333333,
                            "#9c179e"
                          ],
                          [
                            0.4444444444444444,
                            "#bd3786"
                          ],
                          [
                            0.5555555555555556,
                            "#d8576b"
                          ],
                          [
                            0.6666666666666666,
                            "#ed7953"
                          ],
                          [
                            0.7777777777777778,
                            "#fb9f3a"
                          ],
                          [
                            0.8888888888888888,
                            "#fdca26"
                          ],
                          [
                            1,
                            "#f0f921"
                          ]
                        ],
                        "type": "histogram2d"
                      }
                    ],
                    "histogram2dcontour": [
                      {
                        "colorbar": {
                          "outlinewidth": 0,
                          "ticks": ""
                        },
                        "colorscale": [
                          [
                            0,
                            "#0d0887"
                          ],
                          [
                            0.1111111111111111,
                            "#46039f"
                          ],
                          [
                            0.2222222222222222,
                            "#7201a8"
                          ],
                          [
                            0.3333333333333333,
                            "#9c179e"
                          ],
                          [
                            0.4444444444444444,
                            "#bd3786"
                          ],
                          [
                            0.5555555555555556,
                            "#d8576b"
                          ],
                          [
                            0.6666666666666666,
                            "#ed7953"
                          ],
                          [
                            0.7777777777777778,
                            "#fb9f3a"
                          ],
                          [
                            0.8888888888888888,
                            "#fdca26"
                          ],
                          [
                            1,
                            "#f0f921"
                          ]
                        ],
                        "type": "histogram2dcontour"
                      }
                    ],
                    "mesh3d": [
                      {
                        "colorbar": {
                          "outlinewidth": 0,
                          "ticks": ""
                        },
                        "type": "mesh3d"
                      }
                    ],
                    "parcoords": [
                      {
                        "line": {
                          "colorbar": {
                            "outlinewidth": 0,
                            "ticks": ""
                          }
                        },
                        "type": "parcoords"
                      }
                    ],
                    "pie": [
                      {
                        "automargin": true,
                        "type": "pie"
                      }
                    ],
                    "scatter": [
                      {
                        "fillpattern": {
                          "fillmode": "overlay",
                          "size": 10,
                          "solidity": 0.2
                        },
                        "type": "scatter"
                      }
                    ],
                    "scatter3d": [
                      {
                        "line": {
                          "colorbar": {
                            "outlinewidth": 0,
                            "ticks": ""
                          }
                        },
                        "marker": {
                          "colorbar": {
                            "outlinewidth": 0,
                            "ticks": ""
                          }
                        },
                        "type": "scatter3d"
                      }
                    ],
                    "scattercarpet": [
                      {
                        "marker": {
                          "colorbar": {
                            "outlinewidth": 0,
                            "ticks": ""
                          }
                        },
                        "type": "scattercarpet"
                      }
                    ],
                    "scattergeo": [
                      {
                        "marker": {
                          "colorbar": {
                            "outlinewidth": 0,
                            "ticks": ""
                          }
                        },
                        "type": "scattergeo"
                      }
                    ],
                    "scattergl": [
                      {
                        "marker": {
                          "colorbar": {
                            "outlinewidth": 0,
                            "ticks": ""
                          }
                        },
                        "type": "scattergl"
                      }
                    ],
                    "scattermapbox": [
                      {
                        "marker": {
                          "colorbar": {
                            "outlinewidth": 0,
                            "ticks": ""
                          }
                        },
                        "type": "scattermapbox"
                      }
                    ],
                    "scatterpolar": [
                      {
                        "marker": {
                          "colorbar": {
                            "outlinewidth": 0,
                            "ticks": ""
                          }
                        },
                        "type": "scatterpolar"
                      }
                    ],
                    "scatterpolargl": [
                      {
                        "marker": {
                          "colorbar": {
                            "outlinewidth": 0,
                            "ticks": ""
                          }
                        },
                        "type": "scatterpolargl"
                      }
                    ],
                    "scatterternary": [
                      {
                        "marker": {
                          "colorbar": {
                            "outlinewidth": 0,
                            "ticks": ""
                          }
                        },
                        "type": "scatterternary"
                      }
                    ],
                    "surface": [
                      {
                        "colorbar": {
                          "outlinewidth": 0,
                          "ticks": ""
                        },
                        "colorscale": [
                          [
                            0,
                            "#0d0887"
                          ],
                          [
                            0.1111111111111111,
                            "#46039f"
                          ],
                          [
                            0.2222222222222222,
                            "#7201a8"
                          ],
                          [
                            0.3333333333333333,
                            "#9c179e"
                          ],
                          [
                            0.4444444444444444,
                            "#bd3786"
                          ],
                          [
                            0.5555555555555556,
                            "#d8576b"
                          ],
                          [
                            0.6666666666666666,
                            "#ed7953"
                          ],
                          [
                            0.7777777777777778,
                            "#fb9f3a"
                          ],
                          [
                            0.8888888888888888,
                            "#fdca26"
                          ],
                          [
                            1,
                            "#f0f921"
                          ]
                        ],
                        "type": "surface"
                      }
                    ],
                    "table": [
                      {
                        "cells": {
                          "fill": {
                            "color": "#EBF0F8"
                          },
                          "line": {
                            "color": "white"
                          }
                        },
                        "header": {
                          "fill": {
                            "color": "#C8D4E3"
                          },
                          "line": {
                            "color": "white"
                          }
                        },
                        "type": "table"
                      }
                    ]
                  },
                  "layout": {
                    "annotationdefaults": {
                      "arrowcolor": "#2a3f5f",
                      "arrowhead": 0,
                      "arrowwidth": 1
                    },
                    "autotypenumbers": "strict",
                    "coloraxis": {
                      "colorbar": {
                        "outlinewidth": 0,
                        "ticks": ""
                      }
                    },
                    "colorscale": {
                      "diverging": [
                        [
                          0,
                          "#8e0152"
                        ],
                        [
                          0.1,
                          "#c51b7d"
                        ],
                        [
                          0.2,
                          "#de77ae"
                        ],
                        [
                          0.3,
                          "#f1b6da"
                        ],
                        [
                          0.4,
                          "#fde0ef"
                        ],
                        [
                          0.5,
                          "#f7f7f7"
                        ],
                        [
                          0.6,
                          "#e6f5d0"
                        ],
                        [
                          0.7,
                          "#b8e186"
                        ],
                        [
                          0.8,
                          "#7fbc41"
                        ],
                        [
                          0.9,
                          "#4d9221"
                        ],
                        [
                          1,
                          "#276419"
                        ]
                      ],
                      "sequential": [
                        [
                          0,
                          "#0d0887"
                        ],
                        [
                          0.1111111111111111,
                          "#46039f"
                        ],
                        [
                          0.2222222222222222,
                          "#7201a8"
                        ],
                        [
                          0.3333333333333333,
                          "#9c179e"
                        ],
                        [
                          0.4444444444444444,
                          "#bd3786"
                        ],
                        [
                          0.5555555555555556,
                          "#d8576b"
                        ],
                        [
                          0.6666666666666666,
                          "#ed7953"
                        ],
                        [
                          0.7777777777777778,
                          "#fb9f3a"
                        ],
                        [
                          0.8888888888888888,
                          "#fdca26"
                        ],
                        [
                          1,
                          "#f0f921"
                        ]
                      ],
                      "sequentialminus": [
                        [
                          0,
                          "#0d0887"
                        ],
                        [
                          0.1111111111111111,
                          "#46039f"
                        ],
                        [
                          0.2222222222222222,
                          "#7201a8"
                        ],
                        [
                          0.3333333333333333,
                          "#9c179e"
                        ],
                        [
                          0.4444444444444444,
                          "#bd3786"
                        ],
                        [
                          0.5555555555555556,
                          "#d8576b"
                        ],
                        [
                          0.6666666666666666,
                          "#ed7953"
                        ],
                        [
                          0.7777777777777778,
                          "#fb9f3a"
                        ],
                        [
                          0.8888888888888888,
                          "#fdca26"
                        ],
                        [
                          1,
                          "#f0f921"
                        ]
                      ]
                    },
                    "colorway": [
                      "#636efa",
                      "#EF553B",
                      "#00cc96",
                      "#ab63fa",
                      "#FFA15A",
                      "#19d3f3",
                      "#FF6692",
                      "#B6E880",
                      "#FF97FF",
                      "#FECB52"
                    ],
                    "font": {
                      "color": "#2a3f5f"
                    },
                    "geo": {
                      "bgcolor": "white",
                      "lakecolor": "white",
                      "landcolor": "#E5ECF6",
                      "showlakes": true,
                      "showland": true,
                      "subunitcolor": "white"
                    },
                    "hoverlabel": {
                      "align": "left"
                    },
                    "hovermode": "closest",
                    "mapbox": {
                      "style": "light"
                    },
                    "paper_bgcolor": "white",
                    "plot_bgcolor": "#E5ECF6",
                    "polar": {
                      "angularaxis": {
                        "gridcolor": "white",
                        "linecolor": "white",
                        "ticks": ""
                      },
                      "bgcolor": "#E5ECF6",
                      "radialaxis": {
                        "gridcolor": "white",
                        "linecolor": "white",
                        "ticks": ""
                      }
                    },
                    "scene": {
                      "xaxis": {
                        "backgroundcolor": "#E5ECF6",
                        "gridcolor": "white",
                        "gridwidth": 2,
                        "linecolor": "white",
                        "showbackground": true,
                        "ticks": "",
                        "zerolinecolor": "white"
                      },
                      "yaxis": {
                        "backgroundcolor": "#E5ECF6",
                        "gridcolor": "white",
                        "gridwidth": 2,
                        "linecolor": "white",
                        "showbackground": true,
                        "ticks": "",
                        "zerolinecolor": "white"
                      },
                      "zaxis": {
                        "backgroundcolor": "#E5ECF6",
                        "gridcolor": "white",
                        "gridwidth": 2,
                        "linecolor": "white",
                        "showbackground": true,
                        "ticks": "",
                        "zerolinecolor": "white"
                      }
                    },
                    "shapedefaults": {
                      "line": {
                        "color": "#2a3f5f"
                      }
                    },
                    "ternary": {
                      "aaxis": {
                        "gridcolor": "white",
                        "linecolor": "white",
                        "ticks": ""
                      },
                      "baxis": {
                        "gridcolor": "white",
                        "linecolor": "white",
                        "ticks": ""
                      },
                      "bgcolor": "#E5ECF6",
                      "caxis": {
                        "gridcolor": "white",
                        "linecolor": "white",
                        "ticks": ""
                      }
                    },
                    "title": {
                      "x": 0.05
                    },
                    "xaxis": {
                      "automargin": true,
                      "gridcolor": "white",
                      "linecolor": "white",
                      "ticks": "",
                      "title": {
                        "standoff": 15
                      },
                      "zerolinecolor": "white",
                      "zerolinewidth": 2
                    },
                    "yaxis": {
                      "automargin": true,
                      "gridcolor": "white",
                      "linecolor": "white",
                      "ticks": "",
                      "title": {
                        "standoff": 15
                      },
                      "zerolinecolor": "white",
                      "zerolinewidth": 2
                    }
                  }
                },
                "width": 700,
                "xaxis": {
                  "anchor": "y",
                  "domain": [
                    0,
                    1
                  ],
                  "title": {
                    "text": "x"
                  }
                },
                "yaxis": {
                  "anchor": "x",
                  "domain": [
                    0,
                    1
                  ],
                  "title": {
                    "text": "y"
                  }
                }
              }
            }
          },
          "metadata": {},
          "output_type": "display_data"
        }
      ],
      "source": [
        "import plotly.express as px\n",
        "\n",
        "fig = px.scatter(x = codificado_2dim[:, 0],\n",
        "                 y = codificado_2dim[:, 1],\n",
        "                 color = y,\n",
        "                 width = 700,\n",
        "                 height = 500)\n",
        "fig.show()"
      ]
    },
    {
      "cell_type": "markdown",
      "metadata": {
        "id": "aFfhE3uCsrpJ"
      },
      "source": [
        "#### Otra implementación"
      ]
    },
    {
      "cell_type": "code",
      "execution_count": 17,
      "metadata": {
        "colab": {
          "base_uri": "https://localhost:8080/"
        },
        "id": "sWwTr7kobh4k",
        "outputId": "21f17608-ebe8-4807-8ad9-1f74dc1d872e"
      },
      "outputs": [
        {
          "name": "stdout",
          "output_type": "stream",
          "text": [
            "Epoch 1/50\n",
            "1/1 [==============================] - 1s 1s/step - loss: 1.2516\n",
            "Epoch 2/50\n",
            "1/1 [==============================] - 0s 4ms/step - loss: 1.2496\n",
            "Epoch 3/50\n",
            "1/1 [==============================] - 0s 5ms/step - loss: 1.2483\n",
            "Epoch 4/50\n",
            "1/1 [==============================] - 0s 5ms/step - loss: 1.2470\n",
            "Epoch 5/50\n",
            "1/1 [==============================] - 0s 5ms/step - loss: 1.2454\n",
            "Epoch 6/50\n",
            "1/1 [==============================] - 0s 4ms/step - loss: 1.2431\n",
            "Epoch 7/50\n",
            "1/1 [==============================] - 0s 5ms/step - loss: 1.2403\n",
            "Epoch 8/50\n",
            "1/1 [==============================] - 0s 5ms/step - loss: 1.2368\n",
            "Epoch 9/50\n",
            "1/1 [==============================] - 0s 4ms/step - loss: 1.2331\n",
            "Epoch 10/50\n",
            "1/1 [==============================] - 0s 4ms/step - loss: 1.2298\n",
            "Epoch 11/50\n",
            "1/1 [==============================] - 0s 5ms/step - loss: 1.2258\n",
            "Epoch 12/50\n",
            "1/1 [==============================] - 0s 5ms/step - loss: 1.2211\n",
            "Epoch 13/50\n",
            "1/1 [==============================] - 0s 4ms/step - loss: 1.2159\n",
            "Epoch 14/50\n",
            "1/1 [==============================] - 0s 5ms/step - loss: 1.2102\n",
            "Epoch 15/50\n",
            "1/1 [==============================] - 0s 4ms/step - loss: 1.2040\n",
            "Epoch 16/50\n",
            "1/1 [==============================] - 0s 4ms/step - loss: 1.1973\n",
            "Epoch 17/50\n",
            "1/1 [==============================] - 0s 4ms/step - loss: 1.1904\n",
            "Epoch 18/50\n",
            "1/1 [==============================] - 0s 5ms/step - loss: 1.1830\n",
            "Epoch 19/50\n",
            "1/1 [==============================] - 0s 4ms/step - loss: 1.1753\n",
            "Epoch 20/50\n",
            "1/1 [==============================] - 0s 4ms/step - loss: 1.1671\n",
            "Epoch 21/50\n",
            "1/1 [==============================] - 0s 5ms/step - loss: 1.1587\n",
            "Epoch 22/50\n",
            "1/1 [==============================] - 0s 4ms/step - loss: 1.1500\n",
            "Epoch 23/50\n",
            "1/1 [==============================] - 0s 5ms/step - loss: 1.1411\n",
            "Epoch 24/50\n",
            "1/1 [==============================] - 0s 4ms/step - loss: 1.1321\n",
            "Epoch 25/50\n",
            "1/1 [==============================] - 0s 4ms/step - loss: 1.1229\n",
            "Epoch 26/50\n",
            "1/1 [==============================] - 0s 4ms/step - loss: 1.1138\n",
            "Epoch 27/50\n",
            "1/1 [==============================] - 0s 6ms/step - loss: 1.1049\n",
            "Epoch 28/50\n",
            "1/1 [==============================] - 0s 4ms/step - loss: 1.0961\n",
            "Epoch 29/50\n",
            "1/1 [==============================] - 0s 4ms/step - loss: 1.0874\n",
            "Epoch 30/50\n",
            "1/1 [==============================] - 0s 6ms/step - loss: 1.0791\n",
            "Epoch 31/50\n",
            "1/1 [==============================] - 0s 4ms/step - loss: 1.0712\n",
            "Epoch 32/50\n",
            "1/1 [==============================] - 0s 5ms/step - loss: 1.0636\n",
            "Epoch 33/50\n",
            "1/1 [==============================] - 0s 6ms/step - loss: 1.0563\n",
            "Epoch 34/50\n",
            "1/1 [==============================] - 0s 6ms/step - loss: 1.0495\n",
            "Epoch 35/50\n",
            "1/1 [==============================] - 0s 6ms/step - loss: 1.0431\n",
            "Epoch 36/50\n",
            "1/1 [==============================] - 0s 5ms/step - loss: 1.0371\n",
            "Epoch 37/50\n",
            "1/1 [==============================] - 0s 5ms/step - loss: 1.0316\n",
            "Epoch 38/50\n",
            "1/1 [==============================] - 0s 5ms/step - loss: 1.0264\n",
            "Epoch 39/50\n",
            "1/1 [==============================] - 0s 5ms/step - loss: 1.0217\n",
            "Epoch 40/50\n",
            "1/1 [==============================] - 0s 4ms/step - loss: 1.0173\n",
            "Epoch 41/50\n",
            "1/1 [==============================] - 0s 5ms/step - loss: 1.0132\n",
            "Epoch 42/50\n",
            "1/1 [==============================] - 0s 5ms/step - loss: 1.0093\n",
            "Epoch 43/50\n",
            "1/1 [==============================] - 0s 6ms/step - loss: 1.0057\n",
            "Epoch 44/50\n",
            "1/1 [==============================] - 0s 5ms/step - loss: 1.0022\n",
            "Epoch 45/50\n",
            "1/1 [==============================] - 0s 4ms/step - loss: 0.9989\n",
            "Epoch 46/50\n",
            "1/1 [==============================] - 0s 5ms/step - loss: 0.9956\n",
            "Epoch 47/50\n",
            "1/1 [==============================] - 0s 4ms/step - loss: 0.9924\n",
            "Epoch 48/50\n",
            "1/1 [==============================] - 0s 4ms/step - loss: 0.9893\n",
            "Epoch 49/50\n",
            "1/1 [==============================] - 0s 4ms/step - loss: 0.9861\n",
            "Epoch 50/50\n",
            "1/1 [==============================] - 0s 5ms/step - loss: 0.9829\n",
            "1/1 [==============================] - 0s 161ms/step - loss: 0.9796\n",
            "\n",
            "Pérdida de reconstrucción: 0.9796239137649536\n"
          ]
        }
      ],
      "source": [
        "scaler = StandardScaler()\n",
        "normalized_data = scaler.fit_transform(df)\n",
        "\n",
        "# Define la arquitectura del autocodificador con más capas\n",
        "input_layer = Input(shape=(len(df.columns),))\n",
        "# Capa de entrada\n",
        "hidden_layer_1 = Dense(64, activation='relu')(input_layer)\n",
        "# Capa oculta 1\n",
        "hidden_layer_2 = Dense(32, activation='relu')(hidden_layer_1)\n",
        "# Capa oculta 2\n",
        "encoding_layer = Dense(2, activation='relu')(hidden_layer_2)\n",
        "# Capa de \"cuello de botella\" para reducir a 2 dimensiones\n",
        "hidden_layer_3 = Dense(32, activation='relu')(encoding_layer)\n",
        "# Capa oculta 3\n",
        "hidden_layer_4 = Dense(64, activation='relu')(hidden_layer_3)\n",
        "# Capa oculta 4\n",
        "decoding_layer = Dense(len(df.columns), activation='sigmoid')(hidden_layer_4)\n",
        "# Capa de salida\n",
        "\n",
        "# Crea el modelo\n",
        "autoencoder = Model(input_layer, decoding_layer)\n",
        "\n",
        "# Compila y entrena el modelo\n",
        "autoencoder.compile(optimizer='adam', loss='mean_squared_error')\n",
        "autoencoder.fit(normalized_data, normalized_data, epochs=50, batch_size=32)\n",
        "\n",
        "# Evalúa el rendimiento del autocodificador\n",
        "loss = autoencoder.evaluate(normalized_data, normalized_data)\n",
        "print(f'\\nPérdida de reconstrucción: {loss}')"
      ]
    },
    {
      "cell_type": "code",
      "execution_count": 18,
      "metadata": {
        "colab": {
          "base_uri": "https://localhost:8080/",
          "height": 489
        },
        "id": "gSn0HcDxcSaq",
        "outputId": "6982882c-57ff-4aea-ec5c-b5ab2912f946"
      },
      "outputs": [
        {
          "name": "stdout",
          "output_type": "stream",
          "text": [
            "1/1 [==============================] - 0s 94ms/step\n"
          ]
        },
        {
          "data": {
            "image/png": "[encoded data removed]",
            "text/plain": [
              "<Figure size 640x480 with 1 Axes>"
            ]
          },
          "metadata": {},
          "output_type": "display_data"
        }
      ],
      "source": [
        "# Parte 3: Reducción de Dimensionalidad y Visualización\n",
        "\n",
        "# Utiliza el autocodificador para reducir las dimensiones a 2\n",
        "encoded_data = autoencoder.predict(normalized_data)\n",
        "\n",
        "# Visualiza las dos dimensiones en un gráfico de dispersión\n",
        "plt.scatter(encoded_data[:, 0], encoded_data[:, 1])\n",
        "plt.xlabel('Dimensión 1')\n",
        "plt.ylabel('Dimensión 2')\n",
        "plt.title('Reducción de Dimensionalidad con Autocodificador')\n",
        "plt.show()"
      ]
    },
    {
      "cell_type": "code",
      "execution_count": 19,
      "metadata": {
        "colab": {
          "base_uri": "https://localhost:8080/"
        },
        "id": "cG5CrrhsgLJl",
        "outputId": "e7586e95-b3f1-4188-9b96-bae800b7a3c6"
      },
      "outputs": [
        {
          "name": "stdout",
          "output_type": "stream",
          "text": [
            "Epoch 1/100\n",
            "1/1 [==============================] - 1s 730ms/step - loss: 1.2320\n",
            "Epoch 2/100\n",
            "1/1 [==============================] - 0s 5ms/step - loss: 1.2310\n",
            "Epoch 3/100\n",
            "1/1 [==============================] - 0s 5ms/step - loss: 1.2301\n",
            "Epoch 4/100\n",
            "1/1 [==============================] - 0s 7ms/step - loss: 1.2292\n",
            "Epoch 5/100\n",
            "1/1 [==============================] - 0s 5ms/step - loss: 1.2284\n",
            "Epoch 6/100\n",
            "1/1 [==============================] - 0s 4ms/step - loss: 1.2277\n",
            "Epoch 7/100\n",
            "1/1 [==============================] - 0s 4ms/step - loss: 1.2270\n",
            "Epoch 8/100\n",
            "1/1 [==============================] - 0s 5ms/step - loss: 1.2263\n",
            "Epoch 9/100\n",
            "1/1 [==============================] - 0s 4ms/step - loss: 1.2257\n",
            "Epoch 10/100\n",
            "1/1 [==============================] - 0s 4ms/step - loss: 1.2252\n",
            "Epoch 11/100\n",
            "1/1 [==============================] - 0s 4ms/step - loss: 1.2246\n",
            "Epoch 12/100\n",
            "1/1 [==============================] - 0s 4ms/step - loss: 1.2241\n",
            "Epoch 13/100\n",
            "1/1 [==============================] - 0s 4ms/step - loss: 1.2235\n",
            "Epoch 14/100\n",
            "1/1 [==============================] - 0s 4ms/step - loss: 1.2230\n",
            "Epoch 15/100\n",
            "1/1 [==============================] - 0s 4ms/step - loss: 1.2225\n",
            "Epoch 16/100\n",
            "1/1 [==============================] - 0s 5ms/step - loss: 1.2220\n",
            "Epoch 17/100\n",
            "1/1 [==============================] - 0s 3ms/step - loss: 1.2215\n",
            "Epoch 18/100\n",
            "1/1 [==============================] - 0s 3ms/step - loss: 1.2210\n",
            "Epoch 19/100\n",
            "1/1 [==============================] - 0s 4ms/step - loss: 1.2205\n",
            "Epoch 20/100\n",
            "1/1 [==============================] - 0s 3ms/step - loss: 1.2199\n",
            "Epoch 21/100\n",
            "1/1 [==============================] - 0s 3ms/step - loss: 1.2194\n",
            "Epoch 22/100\n",
            "1/1 [==============================] - 0s 4ms/step - loss: 1.2189\n",
            "Epoch 23/100\n",
            "1/1 [==============================] - 0s 3ms/step - loss: 1.2183\n",
            "Epoch 24/100\n",
            "1/1 [==============================] - 0s 4ms/step - loss: 1.2178\n",
            "Epoch 25/100\n",
            "1/1 [==============================] - 0s 4ms/step - loss: 1.2173\n",
            "Epoch 26/100\n",
            "1/1 [==============================] - 0s 3ms/step - loss: 1.2167\n",
            "Epoch 27/100\n",
            "1/1 [==============================] - 0s 3ms/step - loss: 1.2162\n",
            "Epoch 28/100\n",
            "1/1 [==============================] - 0s 4ms/step - loss: 1.2157\n",
            "Epoch 29/100\n",
            "1/1 [==============================] - 0s 4ms/step - loss: 1.2152\n",
            "Epoch 30/100\n",
            "1/1 [==============================] - 0s 4ms/step - loss: 1.2146\n",
            "Epoch 31/100\n",
            "1/1 [==============================] - 0s 4ms/step - loss: 1.2141\n",
            "Epoch 32/100\n",
            "1/1 [==============================] - 0s 5ms/step - loss: 1.2136\n",
            "Epoch 33/100\n",
            "1/1 [==============================] - 0s 5ms/step - loss: 1.2130\n",
            "Epoch 34/100\n",
            "1/1 [==============================] - 0s 4ms/step - loss: 1.2125\n",
            "Epoch 35/100\n",
            "1/1 [==============================] - 0s 4ms/step - loss: 1.2120\n",
            "Epoch 36/100\n",
            "1/1 [==============================] - 0s 5ms/step - loss: 1.2115\n",
            "Epoch 37/100\n",
            "1/1 [==============================] - 0s 5ms/step - loss: 1.2109\n",
            "Epoch 38/100\n",
            "1/1 [==============================] - 0s 5ms/step - loss: 1.2104\n",
            "Epoch 39/100\n",
            "1/1 [==============================] - 0s 7ms/step - loss: 1.2099\n",
            "Epoch 40/100\n",
            "1/1 [==============================] - 0s 4ms/step - loss: 1.2094\n",
            "Epoch 41/100\n",
            "1/1 [==============================] - 0s 4ms/step - loss: 1.2088\n",
            "Epoch 42/100\n",
            "1/1 [==============================] - 0s 6ms/step - loss: 1.2083\n",
            "Epoch 43/100\n",
            "1/1 [==============================] - 0s 5ms/step - loss: 1.2078\n",
            "Epoch 44/100\n",
            "1/1 [==============================] - 0s 6ms/step - loss: 1.2072\n",
            "Epoch 45/100\n",
            "1/1 [==============================] - 0s 5ms/step - loss: 1.2067\n",
            "Epoch 46/100\n",
            "1/1 [==============================] - 0s 4ms/step - loss: 1.2062\n",
            "Epoch 47/100\n",
            "1/1 [==============================] - 0s 5ms/step - loss: 1.2057\n",
            "Epoch 48/100\n",
            "1/1 [==============================] - 0s 6ms/step - loss: 1.2052\n",
            "Epoch 49/100\n",
            "1/1 [==============================] - 0s 5ms/step - loss: 1.2047\n",
            "Epoch 50/100\n",
            "1/1 [==============================] - 0s 5ms/step - loss: 1.2042\n",
            "Epoch 51/100\n",
            "1/1 [==============================] - 0s 3ms/step - loss: 1.2037\n",
            "Epoch 52/100\n",
            "1/1 [==============================] - 0s 4ms/step - loss: 1.2032\n",
            "Epoch 53/100\n",
            "1/1 [==============================] - 0s 4ms/step - loss: 1.2027\n",
            "Epoch 54/100\n",
            "1/1 [==============================] - 0s 5ms/step - loss: 1.2023\n",
            "Epoch 55/100\n",
            "1/1 [==============================] - 0s 5ms/step - loss: 1.2018\n",
            "Epoch 56/100\n",
            "1/1 [==============================] - 0s 4ms/step - loss: 1.2013\n",
            "Epoch 57/100\n",
            "1/1 [==============================] - 0s 5ms/step - loss: 1.2008\n",
            "Epoch 58/100\n",
            "1/1 [==============================] - 0s 5ms/step - loss: 1.2004\n",
            "Epoch 59/100\n",
            "1/1 [==============================] - 0s 5ms/step - loss: 1.1999\n",
            "Epoch 60/100\n",
            "1/1 [==============================] - 0s 4ms/step - loss: 1.1994\n",
            "Epoch 61/100\n",
            "1/1 [==============================] - 0s 4ms/step - loss: 1.1990\n",
            "Epoch 62/100\n",
            "1/1 [==============================] - 0s 4ms/step - loss: 1.1985\n",
            "Epoch 63/100\n",
            "1/1 [==============================] - 0s 6ms/step - loss: 1.1980\n",
            "Epoch 64/100\n",
            "1/1 [==============================] - 0s 5ms/step - loss: 1.1976\n",
            "Epoch 65/100\n",
            "1/1 [==============================] - 0s 4ms/step - loss: 1.1971\n",
            "Epoch 66/100\n",
            "1/1 [==============================] - 0s 6ms/step - loss: 1.1966\n",
            "Epoch 67/100\n",
            "1/1 [==============================] - 0s 6ms/step - loss: 1.1962\n",
            "Epoch 68/100\n",
            "1/1 [==============================] - 0s 5ms/step - loss: 1.1957\n",
            "Epoch 69/100\n",
            "1/1 [==============================] - 0s 5ms/step - loss: 1.1952\n",
            "Epoch 70/100\n",
            "1/1 [==============================] - 0s 5ms/step - loss: 1.1948\n",
            "Epoch 71/100\n",
            "1/1 [==============================] - 0s 4ms/step - loss: 1.1943\n",
            "Epoch 72/100\n",
            "1/1 [==============================] - 0s 6ms/step - loss: 1.1938\n",
            "Epoch 73/100\n",
            "1/1 [==============================] - 0s 6ms/step - loss: 1.1934\n",
            "Epoch 74/100\n",
            "1/1 [==============================] - 0s 4ms/step - loss: 1.1929\n",
            "Epoch 75/100\n",
            "1/1 [==============================] - 0s 5ms/step - loss: 1.1924\n",
            "Epoch 76/100\n",
            "1/1 [==============================] - 0s 4ms/step - loss: 1.1920\n",
            "Epoch 77/100\n",
            "1/1 [==============================] - 0s 5ms/step - loss: 1.1915\n",
            "Epoch 78/100\n",
            "1/1 [==============================] - 0s 4ms/step - loss: 1.1910\n",
            "Epoch 79/100\n",
            "1/1 [==============================] - 0s 5ms/step - loss: 1.1906\n",
            "Epoch 80/100\n",
            "1/1 [==============================] - 0s 4ms/step - loss: 1.1901\n",
            "Epoch 81/100\n",
            "1/1 [==============================] - 0s 5ms/step - loss: 1.1896\n",
            "Epoch 82/100\n",
            "1/1 [==============================] - 0s 5ms/step - loss: 1.1892\n",
            "Epoch 83/100\n",
            "1/1 [==============================] - 0s 6ms/step - loss: 1.1887\n",
            "Epoch 84/100\n",
            "1/1 [==============================] - 0s 5ms/step - loss: 1.1882\n",
            "Epoch 85/100\n",
            "1/1 [==============================] - 0s 7ms/step - loss: 1.1878\n",
            "Epoch 86/100\n",
            "1/1 [==============================] - 0s 7ms/step - loss: 1.1873\n",
            "Epoch 87/100\n",
            "1/1 [==============================] - 0s 10ms/step - loss: 1.1869\n",
            "Epoch 88/100\n",
            "1/1 [==============================] - 0s 5ms/step - loss: 1.1864\n",
            "Epoch 89/100\n",
            "1/1 [==============================] - 0s 5ms/step - loss: 1.1859\n",
            "Epoch 90/100\n",
            "1/1 [==============================] - 0s 5ms/step - loss: 1.1855\n",
            "Epoch 91/100\n",
            "1/1 [==============================] - 0s 7ms/step - loss: 1.1850\n",
            "Epoch 92/100\n",
            "1/1 [==============================] - 0s 6ms/step - loss: 1.1845\n",
            "Epoch 93/100\n",
            "1/1 [==============================] - 0s 5ms/step - loss: 1.1841\n",
            "Epoch 94/100\n",
            "1/1 [==============================] - 0s 4ms/step - loss: 1.1836\n",
            "Epoch 95/100\n",
            "1/1 [==============================] - 0s 6ms/step - loss: 1.1831\n",
            "Epoch 96/100\n",
            "1/1 [==============================] - 0s 5ms/step - loss: 1.1827\n",
            "Epoch 97/100\n",
            "1/1 [==============================] - 0s 7ms/step - loss: 1.1822\n",
            "Epoch 98/100\n",
            "1/1 [==============================] - 0s 6ms/step - loss: 1.1817\n",
            "Epoch 99/100\n",
            "1/1 [==============================] - 0s 4ms/step - loss: 1.1813\n",
            "Epoch 100/100\n",
            "1/1 [==============================] - 0s 6ms/step - loss: 1.1808\n",
            "1/1 [==============================] - 0s 108ms/step - loss: 1.1804\n",
            "Pérdida de reconstrucción: 1.1803560256958008\n"
          ]
        }
      ],
      "source": [
        "# Crea un modelo secuencial\n",
        "autoencoder = Sequential()\n",
        "\n",
        "# Capa de entrada\n",
        "autoencoder.add(Dense(64, activation='relu', input_shape=(len(df.columns),)))\n",
        "\n",
        "# Capa de \"cuello de botella\" para reducir a 2 dimensiones\n",
        "autoencoder.add(Dense(2, activation='relu'))\n",
        "\n",
        "# Capa de salida\n",
        "autoencoder.add(Dense(len(df.columns), activation='sigmoid'))\n",
        "\n",
        "# Compila el modelo con una tasa de aprendizaje ajustable\n",
        "custom_optimizer = Adam(learning_rate=0.001)  # Ajusta la tasa de aprendizaje según sea necesario\n",
        "autoencoder.compile(optimizer=custom_optimizer, loss='mean_squared_error')\n",
        "\n",
        "# Aumenta el número de épocas de entrenamiento\n",
        "autoencoder.fit(normalized_data, normalized_data, epochs=100, batch_size=32)  # Aumenta el número de épocas\n",
        "\n",
        "# Evalúa el rendimiento del autocodificador\n",
        "loss = autoencoder.evaluate(normalized_data, normalized_data)\n",
        "print(f'Pérdida de reconstrucción: {loss}')"
      ]
    }
  ],
  "metadata": {
    "accelerator": "GPU",
    "colab": {
      "gpuType": "T4",
      "provenance": []
    },
    "kernelspec": {
      "display_name": "Python 3",
      "name": "python3"
    },
    "language_info": {
      "name": "python",
      "version": "3.9.13"
    }
  },
  "nbformat": 4,
  "nbformat_minor": 0
}
